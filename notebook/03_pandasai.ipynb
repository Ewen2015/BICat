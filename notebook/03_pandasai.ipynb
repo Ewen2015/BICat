{
 "cells": [
  {
   "cell_type": "code",
   "execution_count": 17,
   "id": "12e4b4dc-2558-4b4d-9882-e4c07fb8febd",
   "metadata": {},
   "outputs": [],
   "source": [
    "# pip install streamlit-pandas-profiling -i https://pypi.douban.com/simple"
   ]
  },
  {
   "cell_type": "code",
   "execution_count": 1,
   "id": "6fbe670c-9172-4826-8a96-cc6ba54fbe32",
   "metadata": {},
   "outputs": [],
   "source": [
    "# pip install pandasai -i https://pypi.douban.com/simple"
   ]
  },
  {
   "cell_type": "code",
   "execution_count": 2,
   "id": "125f474b-f3a5-421c-8b61-5c284db2d515",
   "metadata": {},
   "outputs": [],
   "source": [
    "# Instantiate a LLM\n",
    "from pandasai.llm.openai import OpenAI\n",
    "from pandasai import PandasAI\n",
    "\n",
    "import os\n",
    "api_key = os.environ.get(\"OPENAI_API_KEY\")\n",
    "\n"
   ]
  },
  {
   "cell_type": "code",
   "execution_count": 3,
   "id": "741970ce-256c-4d19-a135-06ff7937b679",
   "metadata": {},
   "outputs": [],
   "source": [
    "import pandas as pd\n",
    "from agent import *\n",
    "\n",
    "f = \"../data/vcc_sales_model.csv\"\n",
    "\n",
    "df = read_csv(f)"
   ]
  },
  {
   "cell_type": "code",
   "execution_count": 4,
   "id": "41497c75-3eec-4a7c-a417-c1a94b879432",
   "metadata": {},
   "outputs": [
    {
     "data": {
      "text/html": [
       "<div>\n",
       "<style scoped>\n",
       "    .dataframe tbody tr th:only-of-type {\n",
       "        vertical-align: middle;\n",
       "    }\n",
       "\n",
       "    .dataframe tbody tr th {\n",
       "        vertical-align: top;\n",
       "    }\n",
       "\n",
       "    .dataframe thead th {\n",
       "        text-align: right;\n",
       "    }\n",
       "</style>\n",
       "<table border=\"1\" class=\"dataframe\">\n",
       "  <thead>\n",
       "    <tr style=\"text-align: right;\">\n",
       "      <th></th>\n",
       "      <th>XC40 BEV</th>\n",
       "      <th>C40 BEV</th>\n",
       "      <th>XC60</th>\n",
       "      <th>XC40m PHEV/ICE</th>\n",
       "      <th>XC90</th>\n",
       "      <th>S90</th>\n",
       "      <th>V60/V60</th>\n",
       "      <th>S60/S60</th>\n",
       "      <th>V90/V90</th>\n",
       "      <th>V40/V40</th>\n",
       "    </tr>\n",
       "    <tr>\n",
       "      <th>Quarter</th>\n",
       "      <th></th>\n",
       "      <th></th>\n",
       "      <th></th>\n",
       "      <th></th>\n",
       "      <th></th>\n",
       "      <th></th>\n",
       "      <th></th>\n",
       "      <th></th>\n",
       "      <th></th>\n",
       "      <th></th>\n",
       "    </tr>\n",
       "  </thead>\n",
       "  <tbody>\n",
       "    <tr>\n",
       "      <th>Q12020</th>\n",
       "      <td>NaN</td>\n",
       "      <td>NaN</td>\n",
       "      <td>36930.0</td>\n",
       "      <td>34268.0</td>\n",
       "      <td>18327.0</td>\n",
       "      <td>7155.0</td>\n",
       "      <td>17708.0</td>\n",
       "      <td>9154.0</td>\n",
       "      <td>6564.0</td>\n",
       "      <td>1783.0</td>\n",
       "    </tr>\n",
       "    <tr>\n",
       "      <th>Q22020</th>\n",
       "      <td>NaN</td>\n",
       "      <td>NaN</td>\n",
       "      <td>41831.0</td>\n",
       "      <td>34091.0</td>\n",
       "      <td>19591.0</td>\n",
       "      <td>11300.0</td>\n",
       "      <td>13565.0</td>\n",
       "      <td>11304.0</td>\n",
       "      <td>5822.0</td>\n",
       "      <td>569.0</td>\n",
       "    </tr>\n",
       "    <tr>\n",
       "      <th>Q32020</th>\n",
       "      <td>NaN</td>\n",
       "      <td>NaN</td>\n",
       "      <td>52330.0</td>\n",
       "      <td>53546.0</td>\n",
       "      <td>23409.0</td>\n",
       "      <td>13083.0</td>\n",
       "      <td>16829.0</td>\n",
       "      <td>14449.0</td>\n",
       "      <td>6865.0</td>\n",
       "      <td>655.0</td>\n",
       "    </tr>\n",
       "    <tr>\n",
       "      <th>Q42020</th>\n",
       "      <td>4659.0</td>\n",
       "      <td>NaN</td>\n",
       "      <td>60605.0</td>\n",
       "      <td>58842.0</td>\n",
       "      <td>31131.0</td>\n",
       "      <td>14489.0</td>\n",
       "      <td>16810.0</td>\n",
       "      <td>17344.0</td>\n",
       "      <td>6318.0</td>\n",
       "      <td>387.0</td>\n",
       "    </tr>\n",
       "    <tr>\n",
       "      <th>Q12021</th>\n",
       "      <td>3615.0</td>\n",
       "      <td>NaN</td>\n",
       "      <td>52702.0</td>\n",
       "      <td>53931.0</td>\n",
       "      <td>24265.0</td>\n",
       "      <td>12044.0</td>\n",
       "      <td>18167.0</td>\n",
       "      <td>14060.0</td>\n",
       "      <td>6890.0</td>\n",
       "      <td>24.0</td>\n",
       "    </tr>\n",
       "  </tbody>\n",
       "</table>\n",
       "</div>"
      ],
      "text/plain": [
       "         XC40 BEV  C40 BEV     XC60  XC40m PHEV/ICE     XC90      S90  \\\n",
       "Quarter                                                                 \n",
       "Q12020        NaN      NaN  36930.0         34268.0  18327.0   7155.0   \n",
       "Q22020        NaN      NaN  41831.0         34091.0  19591.0  11300.0   \n",
       "Q32020        NaN      NaN  52330.0         53546.0  23409.0  13083.0   \n",
       "Q42020     4659.0      NaN  60605.0         58842.0  31131.0  14489.0   \n",
       "Q12021     3615.0      NaN  52702.0         53931.0  24265.0  12044.0   \n",
       "\n",
       "         V60/V60  S60/S60  V90/V90  V40/V40  \n",
       "Quarter                                      \n",
       "Q12020   17708.0   9154.0   6564.0   1783.0  \n",
       "Q22020   13565.0  11304.0   5822.0    569.0  \n",
       "Q32020   16829.0  14449.0   6865.0    655.0  \n",
       "Q42020   16810.0  17344.0   6318.0    387.0  \n",
       "Q12021   18167.0  14060.0   6890.0     24.0  "
      ]
     },
     "execution_count": 4,
     "metadata": {},
     "output_type": "execute_result"
    }
   ],
   "source": [
    "df.head()"
   ]
  },
  {
   "cell_type": "code",
   "execution_count": 5,
   "id": "843ca0ce-6ef1-4994-bbbc-865cecb3d041",
   "metadata": {},
   "outputs": [],
   "source": []
  },
  {
   "cell_type": "code",
   "execution_count": 6,
   "id": "ac77cc05-4355-4195-bb48-7c3cf94c6017",
   "metadata": {},
   "outputs": [],
   "source": [
    "llm = OpenAI(api_token=api_key)\n",
    "pandas_ai = PandasAI(llm)"
   ]
  },
  {
   "cell_type": "code",
   "execution_count": 12,
   "id": "2b60373d-fda3-4ef1-b52e-2e5ebdd9e6e4",
   "metadata": {},
   "outputs": [],
   "source": [
    "result = pandas_ai(df, prompt='what is the best saling model in 2022?', is_conversational_answer=True)"
   ]
  },
  {
   "cell_type": "code",
   "execution_count": 13,
   "id": "7aee4bf1-c519-4ea5-862a-d4a6fec4988f",
   "metadata": {},
   "outputs": [
    {
     "data": {
      "text/plain": [
       "'Oh, the best selling model in 2022 was the XC60.'"
      ]
     },
     "execution_count": 13,
     "metadata": {},
     "output_type": "execute_result"
    }
   ],
   "source": [
    "result"
   ]
  },
  {
   "cell_type": "code",
   "execution_count": 14,
   "id": "2e3f26a1-2747-412c-bbda-2e8364ecf74a",
   "metadata": {},
   "outputs": [
    {
     "data": {
      "text/plain": [
       "str"
      ]
     },
     "execution_count": 14,
     "metadata": {},
     "output_type": "execute_result"
    }
   ],
   "source": [
    "type(result)"
   ]
  },
  {
   "cell_type": "code",
   "execution_count": null,
   "id": "ac33264e-2099-4aef-948b-f614141930b4",
   "metadata": {},
   "outputs": [],
   "source": []
  }
 ],
 "metadata": {
  "kernelspec": {
   "display_name": "Python 3 (ipykernel)",
   "language": "python",
   "name": "python3"
  },
  "language_info": {
   "codemirror_mode": {
    "name": "ipython",
    "version": 3
   },
   "file_extension": ".py",
   "mimetype": "text/x-python",
   "name": "python",
   "nbconvert_exporter": "python",
   "pygments_lexer": "ipython3",
   "version": "3.9.13"
  }
 },
 "nbformat": 4,
 "nbformat_minor": 5
}
