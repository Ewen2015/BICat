{
 "cells": [
  {
   "cell_type": "code",
   "execution_count": 1,
   "id": "6c73a645-63ce-4472-88e5-69ff4cb5db67",
   "metadata": {},
   "outputs": [],
   "source": [
    "import os\n",
    "\n",
    "api_key = os.environ.get(\"OPENAI_API_KEY\")"
   ]
  },
  {
   "cell_type": "code",
   "execution_count": 2,
   "id": "bea10d79-8afd-4318-9c2c-ccab1cf73b88",
   "metadata": {},
   "outputs": [],
   "source": [
    "filename = \"../data/volvocars_salesvolumes.csv\""
   ]
  },
  {
   "cell_type": "code",
   "execution_count": 3,
   "id": "c9f40947-aa7a-43a4-967c-eb7c3e86cefe",
   "metadata": {},
   "outputs": [],
   "source": [
    "from agent import *"
   ]
  },
  {
   "cell_type": "code",
   "execution_count": 4,
   "id": "47c1fe05-2f5d-4d76-9b12-b382c12cb82c",
   "metadata": {},
   "outputs": [],
   "source": [
    "agent = create_agent(filename, api_key)"
   ]
  },
  {
   "cell_type": "code",
   "execution_count": 8,
   "id": "b0aeab55-cb8f-48d3-9989-46bb939a9061",
   "metadata": {},
   "outputs": [],
   "source": [
    "query = \"what's the BEV sales trend in China\"\n",
    "response = query_agent(agent, query)"
   ]
  },
  {
   "cell_type": "code",
   "execution_count": 9,
   "id": "6a7d5539-29fe-47ea-8c91-03f9ccc14275",
   "metadata": {},
   "outputs": [
    {
     "data": {
      "text/plain": [
       "'{\"answer\": \"The BEV sales trend in China shows that the sales have increased quarter-on-quarter in 2020 and 2021. In Q42021, the sales volume was 45242 units which is an increase of 37358 units from Q12020.\",\\n\"present\": \"line\",\\n\"data\": {\"columns\": [\"Q12020\", \"Q22020\", \"Q32020\", \"Q42020\", \"Q12021\", \"Q22021\", \"Q32021\", \"Q42021\"], \"value\": [20780, 44961, 47537, 53339, 45242, 50010, 37358, 39066]}}'"
      ]
     },
     "execution_count": 9,
     "metadata": {},
     "output_type": "execute_result"
    }
   ],
   "source": [
    "response"
   ]
  },
  {
   "cell_type": "code",
   "execution_count": 10,
   "id": "8a91abe9-293d-403f-b565-1cc957eae104",
   "metadata": {},
   "outputs": [
    {
     "name": "stdout",
     "output_type": "stream",
     "text": [
      "The BEV sales trend in China shows that the sales have increased quarter-on-quarter in 2020 and 2021. In Q42021, the sales volume was 45242 units which is an increase of 37358 units from Q12020.\n"
     ]
    },
    {
     "data": {
      "text/html": [
       "<iframe\n",
       "    scrolling=\"no\"\n",
       "    width=\"100%\"\n",
       "    height=\"545px\"\n",
       "    src=\"iframe_figures/figure_10.html\"\n",
       "    frameborder=\"0\"\n",
       "    allowfullscreen\n",
       "></iframe>\n"
      ]
     },
     "metadata": {},
     "output_type": "display_data"
    }
   ],
   "source": [
    "present_response(response_dict=response, style=\"notebook\")"
   ]
  },
  {
   "cell_type": "code",
   "execution_count": null,
   "id": "d6b3a88d-e3a0-474d-806b-e630675bd5da",
   "metadata": {},
   "outputs": [],
   "source": []
  },
  {
   "cell_type": "code",
   "execution_count": null,
   "id": "c116f743-a974-4129-bb9a-f90862cbe3db",
   "metadata": {},
   "outputs": [],
   "source": []
  },
  {
   "cell_type": "code",
   "execution_count": null,
   "id": "3c313217-44b8-4eaa-8689-39a5c37aa05e",
   "metadata": {},
   "outputs": [],
   "source": []
  }
 ],
 "metadata": {
  "kernelspec": {
   "display_name": "Python 3 (ipykernel)",
   "language": "python",
   "name": "python3"
  },
  "language_info": {
   "codemirror_mode": {
    "name": "ipython",
    "version": 3
   },
   "file_extension": ".py",
   "mimetype": "text/x-python",
   "name": "python",
   "nbconvert_exporter": "python",
   "pygments_lexer": "ipython3",
   "version": "3.9.13"
  }
 },
 "nbformat": 4,
 "nbformat_minor": 5
}
